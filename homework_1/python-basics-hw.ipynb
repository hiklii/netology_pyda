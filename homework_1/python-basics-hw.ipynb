{
 "cells": [
  {
   "cell_type": "markdown",
   "metadata": {},
   "source": [
    "**Задание 1**. Даны 2 строки: *long_phrase* и *short_phrase*. \n",
    "Напишите код, который проверяет действительно ли длинная фраза *long_phrase* длиннее короткой *short_phrase*. И выводит *True* или *False* в зависимости от результата сравнения."
   ]
  },
  {
   "cell_type": "code",
   "execution_count": 19,
   "metadata": {},
   "outputs": [],
   "source": [
    "long_phrase = 'Насколько проще было бы писать программы, если бы не заказчики'\n",
    "short_phrase = '640Кб должно хватить для любых задач. Билл Гейтс (по легенде)'"
   ]
  },
  {
   "cell_type": "code",
   "execution_count": 20,
   "metadata": {},
   "outputs": [
    {
     "data": {
      "text/plain": [
       "True"
      ]
     },
     "execution_count": 20,
     "metadata": {},
     "output_type": "execute_result"
    }
   ],
   "source": [
    "len(long_phrase) > len(short_phrase)"
   ]
  },
  {
   "cell_type": "markdown",
   "metadata": {},
   "source": [
    "**Задание 2**. Дано значение объема файла в байтах. Напишите перевод этого значения в мегабайты в формате: \"*Объем файла равен 213.68Mb*\""
   ]
  },
  {
   "cell_type": "code",
   "execution_count": 23,
   "metadata": {},
   "outputs": [
    {
     "name": "stdout",
     "output_type": "stream",
     "text": [
      "Введите объем файла в байтах: 555555\n",
      "Объем файла равен 0.53 Mb\n"
     ]
    }
   ],
   "source": [
    "b_size = int(input('Введите объем файла в байтах: '))\n",
    "mb_size = round(b_size/1024**2, 2)\n",
    "print('Объем файла равен',mb_size,'Mb')"
   ]
  },
  {
   "cell_type": "markdown",
   "metadata": {},
   "source": [
    "**Задание 3**. Разработать приложение для определения знака зодиака по дате рождения. Пример:\n",
    "\n",
    "Введите месяц: март\n",
    "\n",
    "Введите число: 6\n",
    "\n",
    "Вывод:\n",
    "Рыбы"
   ]
  },
  {
   "cell_type": "code",
   "execution_count": 49,
   "metadata": {},
   "outputs": [
    {
     "name": "stdout",
     "output_type": "stream",
     "text": [
      "Введите месяц: май\n",
      "Введите число: 15\n",
      "Вывод: Телец\n"
     ]
    }
   ],
   "source": [
    "zodiac = ''\n",
    "month = input('Введите месяц: ')\n",
    "day = int(input('Введите число: '))\n",
    "if 31 >= day > 0:\n",
    "    if month == 'январь':\n",
    "        if day>=20:\n",
    "            zodiac = 'Водолей'\n",
    "        else:\n",
    "            zodiac = 'Козерог'\n",
    "    if month == 'февраль':\n",
    "        if day>=20:\n",
    "            zodiac = 'Рыбы'\n",
    "        else:\n",
    "            zodiac = 'Водолей'\n",
    "    if month == 'март':\n",
    "        if day>=21:\n",
    "            zodiac = 'Овен'\n",
    "        else:\n",
    "            zodiac = 'Рыбы'        \n",
    "    if month == 'апрель':\n",
    "        if day>=21:\n",
    "            zodiac = 'Телец'\n",
    "        else:\n",
    "            zodiac = 'Овен'\n",
    "    if month == 'май':\n",
    "        if day>=21:\n",
    "            zodiac = 'Близнецы'\n",
    "        else:\n",
    "            zodiac = 'Телец'\n",
    "    if month == 'июнь':\n",
    "        if day>=21:\n",
    "            zodiac = 'Рак'\n",
    "        else:\n",
    "            zodiac = 'Близнецы'\n",
    "    if month == 'июль':\n",
    "        if day>=23:\n",
    "            zodiac = 'Лев'\n",
    "        else:\n",
    "            zodiac = 'Рак'\n",
    "    if month == 'август':\n",
    "        if day>=23:\n",
    "            zodiac = 'Дева'\n",
    "        else:\n",
    "            zodiac = 'Лев'\n",
    "    if month == 'сентябрь':\n",
    "        if day>=23:\n",
    "            zodiac = 'Весы'\n",
    "        else:\n",
    "            zodiac = 'Дева'\n",
    "    if month == 'октябрь':\n",
    "        if day>=23:\n",
    "            zodiac = 'Скорпион'\n",
    "        else:\n",
    "            zodiac = 'Весы' \n",
    "    if month == 'ноябрь':\n",
    "        if day>=23:\n",
    "            zodiac = 'Стрелец'\n",
    "        else:\n",
    "            zodiac = 'Скорпион'\n",
    "    if month == 'декабрь':\n",
    "        if day>=22:\n",
    "            zodiac = 'Козерог'\n",
    "        else:\n",
    "            zodiac = 'Стрелец' \n",
    "print('Вывод:',zodiac)"
   ]
  },
  {
   "cell_type": "markdown",
   "metadata": {},
   "source": [
    "**Задание 4**. Нужно разработать приложение для финансового планирования.\n",
    "Приложение учитывает сколько уходит на ипотеку, \"на жизнь\" и сколько нужно отложить на пенсию.\n",
    "Пользователь вводит:\n",
    "- заработанную плату в месяц.\n",
    "- сколько процентов от ЗП уходит на ипотеку.\n",
    "- сколько процентов от ЗП уходит \"на жизнь\".\n",
    "- сколько раз приходит премия в год.\n",
    "\n",
    "Остальная часть заработанной платы откладывается на пенсию.\n",
    "\n",
    "Также пользователю приходит премия в размере зарплаты, от которой половина уходит на отпуск, а вторая половина откладывается.\n",
    "\n",
    "Программа должна учитывать сколько премий было в год.\n",
    "\n",
    "Нужно вывести сколько денег тратит пользователь на ипотеку и сколько он накопит за год.\n",
    "\n",
    "Пример:\n",
    "\n",
    "Введите заработанную плату в месяц: 100000\n",
    "\n",
    "Введите сколько процентов уходит на ипотеку: 30\n",
    "\n",
    "Введите сколько процентов уходит на жизнь: 50\n",
    "\n",
    "Введите количество премий за год: 2\n",
    "\n",
    "Вывод:\n",
    "На ипотеку было потрачено: 360000 рублей\n",
    "Было накоплено: 340000 рублей"
   ]
  },
  {
   "cell_type": "code",
   "execution_count": 17,
   "metadata": {},
   "outputs": [
    {
     "name": "stdout",
     "output_type": "stream",
     "text": [
      "Введите заработную плату в месяц: 100000\n",
      "Введите сколько процентов уходит на ипотеку: 30\n",
      "Введите сколько процентов уходит на жизнь: 50\n",
      "Введите количество премий за год: 2\n",
      "Вывод: На ипотеку было потрачено: 360000 Было накоплено: 340000\n"
     ]
    }
   ],
   "source": [
    "salary = int(input('Введите заработную плату в месяц: '))\n",
    "mortgage_percent = int(input('Введите сколько процентов уходит на ипотеку: '))*0.01\n",
    "charges_percent = int(input('Введите сколько процентов уходит на жизнь: '))*0.01\n",
    "bonus_year = int(input('Введите количество премий за год: '))*salary\n",
    "salary_year = salary*12\n",
    "mortgage_year = salary_year*mortgage_percent\n",
    "savings = salary_year*(1.0-charges_percent) + bonus_year/2 - mortgage_year\n",
    "\n",
    "print('Вывод: На ипотеку было потрачено:',int(mortgage_year),'Было накоплено:',int(savings))"
   ]
  }
 ],
 "metadata": {
  "kernelspec": {
   "display_name": "Python 3",
   "language": "python",
   "name": "python3"
  },
  "language_info": {
   "codemirror_mode": {
    "name": "ipython",
    "version": 3
   },
   "file_extension": ".py",
   "mimetype": "text/x-python",
   "name": "python",
   "nbconvert_exporter": "python",
   "pygments_lexer": "ipython3",
   "version": "3.7.4"
  }
 },
 "nbformat": 4,
 "nbformat_minor": 2
}
